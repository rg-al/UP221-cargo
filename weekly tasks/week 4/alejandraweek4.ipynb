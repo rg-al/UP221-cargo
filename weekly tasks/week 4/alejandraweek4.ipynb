{
 "cells": [
  {
   "cell_type": "markdown",
   "id": "521e4385-e259-47ea-bf97-3a65c81d9479",
   "metadata": {},
   "source": [
    "# Week 4 Updates"
   ]
  },
  {
   "cell_type": "markdown",
   "id": "5a6535ab-9a76-48a6-ba39-73b6637a6f17",
   "metadata": {},
   "source": [
    "Alejandra Rios"
   ]
  },
  {
   "cell_type": "markdown",
   "id": "1797496b-7a0e-4467-9ea3-2fd9ba51ae62",
   "metadata": {},
   "source": [
    "This week I completed the following tasks: \n",
    "* Organize the group repo and create a [file directory](https://github.com/rg-al/UP221-cargo/blob/main/Documentation/GitHubFileDirectory.ipynb)\n",
    "* Create a [Git guide](https://github.com/rg-al/UP221-cargo/blob/main/Documentation/GitGuide.ipynb) for the team's workflow\n",
    "* Assist team members with creating their personal branch to comply with our workflow guidelines\n",
    "* Figured out the census tracts that are part of Ontario (our study area) in [this Jupyter notebook](https://github.com/rg-al/UP221-cargo/blob/main/Project%20Materials/censustractsontario.ipynb). ([See also this nbviewer link](https://nbviewer.org/github/rg-al/UP221-cargo/blob/main/censustractsontario.ipynb))\n",
    "* Managed my team's repo on Github\n",
    "* Helped type up the [Mini Group Assignment](https://github.com/rg-al/UP221-cargo/blob/main/Project%20Materials/minigroupassignment.ipynb) with proper markdown features"
   ]
  }
 ],
 "metadata": {
  "kernelspec": {
   "display_name": "Python 3 (ipykernel)",
   "language": "python",
   "name": "python3"
  },
  "language_info": {
   "codemirror_mode": {
    "name": "ipython",
    "version": 3
   },
   "file_extension": ".py",
   "mimetype": "text/x-python",
   "name": "python",
   "nbconvert_exporter": "python",
   "pygments_lexer": "ipython3",
   "version": "3.10.8"
  }
 },
 "nbformat": 4,
 "nbformat_minor": 5
}
