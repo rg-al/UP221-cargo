{
 "cells": [
  {
   "cell_type": "markdown",
   "id": "5cbe6697-fe02-4533-bd50-a236a9c3c914",
   "metadata": {},
   "source": [
    "# File Directory"
   ]
  },
  {
   "cell_type": "markdown",
   "id": "eca00ce6-ad32-4c1b-921f-9518b2cfe276",
   "metadata": {},
   "source": [
    "## Census Data Exploration "
   ]
  },
  {
   "cell_type": "markdown",
   "id": "7f947715-b204-485e-bb8c-6b73a98d0583",
   "metadata": {},
   "source": [
    "This folder contains the homework assignments for Week 3. This folder can be considered archived since it includes data from the old project proposal. "
   ]
  },
  {
   "cell_type": "markdown",
   "id": "8124d0ba-dcff-4f5d-894b-30dea56a3249",
   "metadata": {},
   "source": [
    "## Data"
   ]
  },
  {
   "cell_type": "markdown",
   "id": "323da93b-f9d3-475a-b2c3-f4e33392a661",
   "metadata": {},
   "source": [
    "This folder includes all the data files referenced on the python notebooks. Save new data under a folder using the name of the datasource. For example, if the data is from the Social Vulnerability Index (SVI), add a folder and name it \"SVI\". "
   ]
  },
  {
   "cell_type": "markdown",
   "id": "1da557b0-a154-4645-8c62-d9b37ec010b6",
   "metadata": {},
   "source": [
    "The preferred sintax for file names is this: NameOfData. For example, if you have SVI data on income, you can name the file \"IncomeSVI\" or if you have Census data on population, you can name the file \"PopCensus\""
   ]
  },
  {
   "cell_type": "markdown",
   "id": "cd4b5604-62c2-4a44-9005-db8ee106ac88",
   "metadata": {},
   "source": [
    "## Documentation "
   ]
  },
  {
   "cell_type": "markdown",
   "id": "dcdbbda6-c06b-4be3-9999-ddb14bd86edb",
   "metadata": {},
   "source": [
    "This folder includes this document and other guidelines we apply to our project. For example, we should add a file describing our color scheme and preferred font. We can also add information on the preffered years, geographies, and other descriptors that ensure that we all use the same type of data (i.e. census tract, X years, etc). "
   ]
  },
  {
   "cell_type": "markdown",
   "id": "275ac6f5-fb99-41b3-bb19-1133a624d30b",
   "metadata": {},
   "source": [
    "## Project Materials"
   ]
  },
  {
   "cell_type": "markdown",
   "id": "56f3dd91-be04-4e64-aea1-ac6c30424e70",
   "metadata": {},
   "source": [
    "This folder is meant for all our final group deliverables.\n",
    "\n",
    "1) Project proposal\n",
    "2) Midterm\n",
    "3) Final \n",
    "4) Other group deliverables "
   ]
  },
  {
   "cell_type": "markdown",
   "id": "e9e66eb7-6a84-44f5-a62a-d9a65697fd88",
   "metadata": {},
   "source": [
    "## Weekly tasks"
   ]
  },
  {
   "cell_type": "markdown",
   "id": "967d335e-6473-438d-a966-30299028990f",
   "metadata": {},
   "source": [
    "Use this folder to describe your work every week. For example, after finishing your work for Week X, you can type up bullet point descriptions of what you accomplished that week. Add links to files you referenced to (data files, python files, etc.). "
   ]
  },
  {
   "cell_type": "markdown",
   "id": "0571d625-9741-4389-a23d-9a70bd9c865c",
   "metadata": {},
   "source": [
    "## **Please add any new folders you make into this document**"
   ]
  },
  {
   "cell_type": "code",
   "execution_count": null,
   "id": "cb4c880d-0e30-44ba-9a58-6ca98ae07200",
   "metadata": {},
   "outputs": [],
   "source": []
  }
 ],
 "metadata": {
  "kernelspec": {
   "display_name": "Python 3 (ipykernel)",
   "language": "python",
   "name": "python3"
  },
  "language_info": {
   "codemirror_mode": {
    "name": "ipython",
    "version": 3
   },
   "file_extension": ".py",
   "mimetype": "text/x-python",
   "name": "python",
   "nbconvert_exporter": "python",
   "pygments_lexer": "ipython3",
   "version": "3.10.8"
  }
 },
 "nbformat": 4,
 "nbformat_minor": 5
}
