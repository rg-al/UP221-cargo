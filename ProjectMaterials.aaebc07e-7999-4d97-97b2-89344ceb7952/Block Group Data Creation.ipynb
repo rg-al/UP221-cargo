{
 "cells": [
  {
   "cell_type": "code",
   "execution_count": 3,
   "id": "9911a464-7ebe-4a35-b167-8033a1ec561b",
   "metadata": {},
   "outputs": [],
   "source": [
    "#importing the neccesary libraries\n",
    "\n",
    "import pandas as pd\n",
    "import geopandas as gpd\n",
    "import plotly as plt\n",
    "import folium \n",
    "import matplotlib.pyplot as mplt\n",
    "import contextily as ctx\n",
    "from shapely import wkt\n",
    "from shapely.wkt import loads\n",
    "import plotly.express as px\n",
    "import osmnx as ox\n",
    "\n",
    "pd.set_option('display.max_columns', None)\n",
    "pd.set_option('display.max_rows', None)"
   ]
  },
  {
   "cell_type": "code",
   "execution_count": null,
   "id": "4b85c528-ac2f-46e0-9c25-2ade174378fd",
   "metadata": {},
   "outputs": [],
   "source": [
    "# Importing Block Group Data and Shapefile\n",
    "CA_BlockGroup_2019 = gpd.read_file('../Data/Employment Block Groups ACS 2019.csv')\n",
    "CA_BlockGroup_2010 = gpd.read_file('../Data/Employment Block Groups ACS 2010.csv')\n",
    "CA_BlockGroup_Shapes = gpd.read_file('../Data/CA Block Group 2019/ca_blockgroup_2019.shp')\n",
    "Ontario_boundary = gpd.read_file('../Data/Ontario Boundary/Ontario Boundary.shp')\n",
    "                                     \n",
    "Ontario_boundary = Ontario_boundary.to_crs(epsg=4326)\n",
    "CA_BlockGroup_Shapes = CA_BlockGroup_Shapes.to_crs(epsg=4326)"
   ]
  },
  {
   "cell_type": "code",
   "execution_count": null,
   "id": "69b71ef4-e413-4cea-ba8a-94d674513133",
   "metadata": {},
   "outputs": [],
   "source": [
    "#Keep only San Bernandino County Block Groups\n",
    "CA_BlockGroup_Shapes = CA_BlockGroup_Shapes[CA_BlockGroup_Shapes['COUNTYFP'] == '071']"
   ]
  },
  {
   "cell_type": "code",
   "execution_count": null,
   "id": "bc4eb94d-1f9c-49ca-85bd-39cf22c76325",
   "metadata": {},
   "outputs": [],
   "source": [
    "#keep only population, population density, # of warehouse workers, and median household income\n",
    "columns_to_keep = ['Geo_FIPS',\n",
    "                   'Geo_GEOID',\n",
    "                   'SE_A17007B_014',\n",
    "                   'SE_A00002_001',\n",
    "                   'SE_A00002_002',\n",
    "                   'SE_A17007A_014',\n",
    "                   'SE_A14006_001',\n",
    "                  ]\n",
    "# create new dataframe with the selected columns\n",
    "CA_BlockGroup_2010 = CA_BlockGroup_2010[columns_to_keep]\n",
    "CA_BlockGroup_2019 = CA_BlockGroup_2019[columns_to_keep]"
   ]
  },
  {
   "cell_type": "code",
   "execution_count": null,
   "id": "ee2218d3-d7fa-4ec1-b434-682a28fd455d",
   "metadata": {},
   "outputs": [],
   "source": [
    "#Rename Columns\n",
    "columns19 = list(CA_BlockGroup_2010)\n",
    "columns10 = list(CA_BlockGroup_2019)\n",
    "\n",
    "print(columns19)\n",
    "print(columns10)\n",
    "\n",
    "CA_BlockGroup_2010.columns = ['GEOID',\n",
    "                   'Geo_GEOID',\n",
    "                   'Female Transportation and Material Moving Occupations 2010',\n",
    "                   'Total Population 2010',\n",
    "                   'Population Density (Per Sq. Mile) 2010',\n",
    "                   'Male Transportation and Material Moving Occupations 2010',\n",
    "                   'Median Household Income (In 2019 Inflation Adjusted Dollars) 2010'\n",
    "                  ]\n",
    "CA_BlockGroup_2019.columns = ['GEOID',\n",
    "                   'Geo_GEOID',\n",
    "                   'Female Transportation and Material Moving Occupations 2019',\n",
    "                   'Total Population 2019',\n",
    "                   'Population Density (Per Sq. Mile) 2019',\n",
    "                   'Male Transportation and Material Moving Occupations 2019',\n",
    "                   'Median Household Income (In 2019 Inflation Adjusted Dollars) 2019'\n",
    "                  ]\n",
    "\n",
    "#need to multiply median household income of 2010 by 16% According to the Bureau of Labor Statistics\n",
    "CA_BlockGroup_2010['Median Household Income (In 2019 Inflation Adjusted Dollars) 2010'].replace('', np.nan, inplace=True)\n",
    "CA_BlockGroup_2019['Median Household Income (In 2019 Inflation Adjusted Dollars) 2019'].replace('', np.nan, inplace=True)\n",
    "CA_BlockGroup_2010 = CA_BlockGroup_2010.dropna(subset=['Median Household Income (In 2019 Inflation Adjusted Dollars) 2010'])\n",
    "CA_BlockGroup_2019 = CA_BlockGroup_2019.dropna(subset=['Median Household Income (In 2019 Inflation Adjusted Dollars) 2019'])\n",
    "data_types_dict = {'Median Household Income (In 2019 Inflation Adjusted Dollars) 2010': float}\n",
    "CA_BlockGroup_2010 = CA_BlockGroup_2010.astype(data_types_dict)\n",
    "data_types_dict = {'Median Household Income (In 2019 Inflation Adjusted Dollars) 2019': float}\n",
    "CA_BlockGroup_2019 = CA_BlockGroup_2019.astype(data_types_dict)\n",
    "CA_BlockGroup_2010['Median Household Income (In 2019 Inflation Adjusted Dollars) 2010'] = CA_BlockGroup_2010['Median Household Income (In 2019 Inflation Adjusted Dollars) 2010'] * 1.16"
   ]
  },
  {
   "cell_type": "code",
   "execution_count": null,
   "id": "90e3df54-14fb-40f7-81f8-b6f9c0ec527e",
   "metadata": {},
   "outputs": [],
   "source": [
    "#merge datasets\n",
    "Temp_Shape=CA_BlockGroup_Shapes.merge(CA_BlockGroup_2019,on=\"GEOID\")\n",
    "SB_County_Block_Group_Employment=Temp_Shape.merge(CA_BlockGroup_2010,on=\"GEOID\")\n",
    "data_types_dict = {\n",
    "    'Female Transportation and Material Moving Occupations 2010': float,\n",
    "    'Female Transportation and Material Moving Occupations 2019' : float,\n",
    "    'Male Transportation and Material Moving Occupations 2019' : float,\n",
    "    'Male Transportation and Material Moving Occupations 2010' : float,\n",
    "}\n",
    "SB_County_Block_Group_Employment = SB_County_Block_Group_Employment.astype(data_types_dict)\n",
    "SB_County_Block_Group_Employment['Change in Median Household Income from 2010 to 2019 (2019 dollars)'] = SB_County_Block_Group_Employment['Median Household Income (In 2019 Inflation Adjusted Dollars) 2019']-SB_County_Block_Group_Employment['Median Household Income (In 2019 Inflation Adjusted Dollars) 2010']\n",
    "SB_County_Block_Group_Employment['Transportation and Material Moving Occupations 2019'] = SB_County_Block_Group_Employment['Male Transportation and Material Moving Occupations 2019']+SB_County_Block_Group_Employment['Female Transportation and Material Moving Occupations 2019']\n",
    "SB_County_Block_Group_Employment['Transportation and Material Moving Occupations 2010'] = SB_County_Block_Group_Employment['Male Transportation and Material Moving Occupations 2010']+SB_County_Block_Group_Employment['Female Transportation and Material Moving Occupations 2010']\n",
    "SB_County_Block_Group_Employment['Change in Warehouse Employment from 2010 to 2019'] = SB_County_Block_Group_Employment['Transportation and Material Moving Occupations 2019']-SB_County_Block_Group_Employment['Transportation and Material Moving Occupations 2010']"
   ]
  },
  {
   "cell_type": "code",
   "execution_count": null,
   "id": "7bdcb0b1-4b81-42d6-b9da-5b9af11b5a65",
   "metadata": {},
   "outputs": [],
   "source": [
    "#create Shapefile\n",
    "#SB_County_Block_Group_Employment.to_csv(\"SB_County_Block_Group_Employment_2010_2019.csv\")\n",
    "#SB_County_Block_Group_Employment.to_file(\"SB_County_Block_Group_Employment_2010_2019.shp\")"
   ]
  }
 ],
 "metadata": {
  "kernelspec": {
   "display_name": "Python 3 (ipykernel)",
   "language": "python",
   "name": "python3"
  },
  "language_info": {
   "codemirror_mode": {
    "name": "ipython",
    "version": 3
   },
   "file_extension": ".py",
   "mimetype": "text/x-python",
   "name": "python",
   "nbconvert_exporter": "python",
   "pygments_lexer": "ipython3",
   "version": "3.10.8"
  }
 },
 "nbformat": 4,
 "nbformat_minor": 5
}
