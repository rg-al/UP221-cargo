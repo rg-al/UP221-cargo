{
 "cells": [
  {
   "cell_type": "markdown",
   "id": "c3118de3-b1d5-451b-942c-2aa6655332fa",
   "metadata": {},
   "source": [
    "# Census Data Exploration - Health Metrics\n",
    "\n",
    "### Data from the 2021 5-year ACS estimates \n",
    "\n",
    "#### Alejandra Rios"
   ]
  },
  {
   "cell_type": "code",
   "execution_count": null,
   "id": "ed30acef-d5dc-43c6-9b06-a85bc1df55d4",
   "metadata": {},
   "outputs": [],
   "source": [
    "import pandas as pd\n",
    "import geopandas as gpd"
   ]
  },
  {
   "cell_type": "code",
   "execution_count": null,
   "id": "b49256cd-fe13-468a-ab9c-edc84e744178",
   "metadata": {},
   "outputs": [],
   "source": [
    "# load data file\n",
    "# note the relative filepath! where is this file located?\n",
    "df = pd.read_csv('data/R13280610_SL140.csv')"
   ]
  },
  {
   "cell_type": "code",
   "execution_count": null,
   "id": "c7b71044-2b94-4f27-97ad-232a8287faaa",
   "metadata": {},
   "outputs": [],
   "source": []
  },
  {
   "cell_type": "code",
   "execution_count": null,
   "id": "17a6f211-74b2-443d-b827-009c239812e6",
   "metadata": {},
   "outputs": [],
   "source": []
  },
  {
   "cell_type": "code",
   "execution_count": null,
   "id": "ebd0be28-94f9-444f-bc08-bff0ac4f971f",
   "metadata": {},
   "outputs": [],
   "source": []
  },
  {
   "cell_type": "code",
   "execution_count": null,
   "id": "8cf58d71-41b7-43df-a1a9-eb3ed0ba57a2",
   "metadata": {},
   "outputs": [],
   "source": []
  },
  {
   "cell_type": "code",
   "execution_count": null,
   "id": "a2153519-99f2-4b97-a204-30d2c09a0940",
   "metadata": {},
   "outputs": [],
   "source": []
  },
  {
   "cell_type": "code",
   "execution_count": null,
   "id": "226968cb-cbaa-4dba-9698-557fca4edf22",
   "metadata": {},
   "outputs": [],
   "source": []
  },
  {
   "cell_type": "code",
   "execution_count": null,
   "id": "9716efde-f222-47bf-99ff-d7e8e555d1b3",
   "metadata": {},
   "outputs": [],
   "source": []
  },
  {
   "cell_type": "code",
   "execution_count": null,
   "id": "b2035a34-1079-4ea4-9c23-937c505febc4",
   "metadata": {},
   "outputs": [],
   "source": []
  },
  {
   "cell_type": "code",
   "execution_count": null,
   "id": "41c13316-bae5-4f83-99de-0850ebd76fe7",
   "metadata": {},
   "outputs": [],
   "source": []
  },
  {
   "cell_type": "code",
   "execution_count": null,
   "id": "f8427737-5501-45a2-a2ff-18a72460b081",
   "metadata": {},
   "outputs": [],
   "source": []
  }
 ],
 "metadata": {
  "kernelspec": {
   "display_name": "Python 3 (ipykernel)",
   "language": "python",
   "name": "python3"
  },
  "language_info": {
   "codemirror_mode": {
    "name": "ipython",
    "version": 3
   },
   "file_extension": ".py",
   "mimetype": "text/x-python",
   "name": "python",
   "nbconvert_exporter": "python",
   "pygments_lexer": "ipython3",
   "version": "3.10.8"
  }
 },
 "nbformat": 4,
 "nbformat_minor": 5
}
