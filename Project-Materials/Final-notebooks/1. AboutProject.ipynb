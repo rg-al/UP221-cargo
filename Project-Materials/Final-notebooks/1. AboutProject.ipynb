{
 "cells": [
  {
   "cell_type": "markdown",
   "id": "b8dd6fcb-498b-4435-a30a-9b20eb295e13",
   "metadata": {},
   "source": [
    "# Midterm - Environmental & Health Impacts of Warehouses in Ontario, CA\n",
    "Alejandra, Georgie, Jennifer, Matthews"
   ]
  },
  {
   "cell_type": "markdown",
   "id": "5f4d0dd2-291a-476f-80b5-8d631b5e3c8b",
   "metadata": {},
   "source": [
    "## Research Question"
   ]
  },
  {
   "cell_type": "markdown",
   "id": "d80e7458-c7fc-431e-870d-afd23d8ab085",
   "metadata": {},
   "source": [
    "Our project seeks to explore the relationship between warehouses and environmental, social, and health outcomes in the communities surrounding them in Ontario, California.\n",
    "\n",
    "[Link to full project proposal](https://github.com/rg-al/UP221-cargo/blob/main/Project%20Materials/ProjectPrososal.ipynb)"
   ]
  },
  {
   "cell_type": "markdown",
   "id": "402ed92d-6a2d-408f-a3d4-b2e1c09fda44",
   "metadata": {},
   "source": [
    "## Importance"
   ]
  },
  {
   "cell_type": "markdown",
   "id": "53bbc955-afcf-4594-977f-bf5c70bc8b97",
   "metadata": {},
   "source": [
    "Considering the simultaneously skyrocketing consumer demand that will likely increase the potential burden of warehousing operations on Southern California’s key trade corridors, goods movement is a pressing issue at the city, regional, state, and national levels. \n",
    "\n",
    "City and regional logistics and other warehousing needs contribute to Southern California’s severe traffic congestion and air pollution, yet serve a critical role in providing essential goods and services, whether life-saving vaccines or emergency supplies after natural disasters. \n",
    "\n",
    "Warehousing operations add additional burdens to already overburdened communities by increasing exposure to air pollution and increasing the health risks to communities close to the warehouse facilities. "
   ]
  },
  {
   "cell_type": "markdown",
   "id": "bdec5557-2a2f-4906-9022-3c8b986f78b3",
   "metadata": {},
   "source": [
    "## Spatial Scope"
   ]
  },
  {
   "cell_type": "markdown",
   "id": "96ae815a-a57d-4cce-81d3-1b711935a06a",
   "metadata": {},
   "source": [
    "The scope for this project encompasses Ontario, CA, the city with the most existing and planned warehouses in Califiornia."
   ]
  },
  {
   "cell_type": "markdown",
   "id": "80febc53-e3c2-4998-9437-3d66da3dd891",
   "metadata": {},
   "source": [
    "## Data Sources"
   ]
  },
  {
   "cell_type": "markdown",
   "id": "dd777a82-3f1d-49be-ad23-9185d82cdabd",
   "metadata": {},
   "source": [
    "[Environmental Justice Index](https://onemap.cdc.gov/portal/apps/sites/#/eji-explorer)(EJI)\n",
    "\n",
    "The EJI is a newer index administered by the CDC that provides information on what communities experience severe cumulative impacts from environmental burden. This dataset provides environmental, social, and health data that we use to identify the causes of vulnerability for the communities in Ontario. Selected indicators from this dataset can be overlaid with warehouse data to identify a link between the growth of warehouses in the area and environmental justice burdens."
   ]
  },
  {
   "cell_type": "markdown",
   "id": "e8c18523-51b7-4959-93e7-ac22eaa7e149",
   "metadata": {},
   "source": [
    "[Warehouse CITY data](https://radicalresearch.shinyapps.io/WarehouseCITY/)\n",
    "\n",
    "The Warehouse CITY (communitY Cumulative Impact Tool) data data currently contains information on assessor parcel number, year built, and type. This data is collected with the purpose of providing a tool to help communities in Southern California understand and quantify the cumulative impacts of warehouses in the region."
   ]
  },
  {
   "cell_type": "markdown",
   "id": "1bb3f3aa-91f5-44d2-bd9e-1c5ec2a89f2c",
   "metadata": {},
   "source": [
    "[California State Geoportal](https://gis.data.ca.gov/)\n",
    "\n",
    "This dataset provides access to various geospatial data and services related to the state of California, including data on topography, demographics, land use, natural resources, and other related topics. We downloaded geojson files of Ontario city’s schools, parks, the airport, or any public places to see their locations and how warehouses may possibly impact people using these facilities."
   ]
  },
  {
   "cell_type": "markdown",
   "id": "6f1a3884-761e-45ca-80eb-6e0ca3f85ce4",
   "metadata": {},
   "source": [
    "[2021: ACS 5-Year Estimates](https://data.census.gov/table?q=Ontario+city,+California&tid=ACSST5Y2021.S0501)\n",
    "\n",
    "Table S0501: Selected Characteristics of the Native and Foreign-Born Populations. This dataset provides basic demographic data for the City of Ontario. We use this data to provide a demographic overview of the people who live there. "
   ]
  },
  {
   "cell_type": "markdown",
   "id": "e1f6c797-dc0c-49ce-a053-dc5f5cbc2f11",
   "metadata": {},
   "source": [
    "[2019](https://data.census.gov/table?q=Ontario+city,+California&tid=ACSST5Y2019.S0501) and [2010](https://data.census.gov/table?q=Ontario+city,+California&tid=ACSST5Y2010.S0501): ACS 5-Year Estimates\n",
    "\n",
    "Table S0501: Selected Characteristics of the Native and Foreign-Born Populations. We use this dataseset at the block group level to the investigate the economic effects of warehouses in Ontario. "
   ]
  },
  {
   "cell_type": "markdown",
   "id": "a6174505-f0cc-47bb-93e1-7915c6599e93",
   "metadata": {},
   "source": [
    "[Qualitative Sources](https://docs.google.com/document/d/1hjwBjau5C0BkyQih12sgyHpXyRqMUI1JyOQXq1lzvlU/edit?usp=sharing)\n",
    "\n",
    "This link contains a detailed bibliography of references for our qualitative research and literature review. "
   ]
  },
  {
   "cell_type": "markdown",
   "id": "9f9497bc-3057-45ee-b044-a447d81df9a4",
   "metadata": {},
   "source": [
    "## Scope of Visualizations"
   ]
  },
  {
   "cell_type": "markdown",
   "id": "164d9f6d-ad78-4279-a618-c48fe7207b0e",
   "metadata": {},
   "source": [
    "This analysis intends to discover any links between the overburden of warehouses in communities in Ontario and negative outcomes through geospatial analysis. Additionally, the project will observe land uses and the historical outgrowth of warehouses in the city. Our final deliverable will include a regression analysis of the relationship between warehouse siting and social, health, and environmental factors."
   ]
  },
  {
   "cell_type": "markdown",
   "id": "470d3331-7d99-48b8-aaba-5396354fcceb",
   "metadata": {},
   "source": [
    "## Expected Insights"
   ]
  },
  {
   "cell_type": "markdown",
   "id": "6d1a623c-a4c8-40bc-a58f-623c13aef900",
   "metadata": {},
   "source": [
    "We expect to figure out which communities have the most social, health, and environmental burden. We also hope to identify community response and resistance to the warehouses. "
   ]
  },
  {
   "cell_type": "markdown",
   "id": "09c3ff6e-88f6-4a70-9cee-45fd148ec632",
   "metadata": {},
   "source": [
    "## Team"
   ]
  },
  {
   "cell_type": "markdown",
   "id": "cb80d9ea-c225-43ab-b819-88aefd4b15b7",
   "metadata": {},
   "source": [
    "All members of our team worked on completing most main tasks (finding data, cleaning data, making charts and maps). We assigned leads or managers for selected areas of the project. \n",
    "\n",
    "**Alejandra Rios**: Repo manager, data collection and cleaning lead, quantitative analysis, and literature review\n",
    "\n",
    "**Georgie Suico**: Qualitative analysis and literature review lead, manage the StoryMap, assist with notebook design, quantitative analysis, and data collection\n",
    "\n",
    "**Jennifer Chu**: Notebook and presentation design lead, data collection and cleaning, quantitative analysis, literature review\n",
    "\n",
    "**Matthews Cribioli**: Quantitative analysis lead, qualitative analysis, data collection and cleaning, and literature review"
   ]
  }
 ],
 "metadata": {
  "kernelspec": {
   "display_name": "Python 3 (ipykernel)",
   "language": "python",
   "name": "python3"
  },
  "language_info": {
   "codemirror_mode": {
    "name": "ipython",
    "version": 3
   },
   "file_extension": ".py",
   "mimetype": "text/x-python",
   "name": "python",
   "nbconvert_exporter": "python",
   "pygments_lexer": "ipython3",
   "version": "3.10.8"
  }
 },
 "nbformat": 4,
 "nbformat_minor": 5
}
