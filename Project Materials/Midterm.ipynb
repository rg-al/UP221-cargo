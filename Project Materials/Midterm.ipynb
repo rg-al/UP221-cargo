{
 "cells": [
  {
   "cell_type": "markdown",
   "id": "52d9bf4d-53ed-4b48-8a2e-8d2229e8b299",
   "metadata": {},
   "source": [
    "# Midterm - Environmental & Health Impacts of Warehouses in Ontario, CA"
   ]
  },
  {
   "cell_type": "markdown",
   "id": "884e23a0-45c6-4731-b60e-926e3a9a096b",
   "metadata": {},
   "source": [
    "## Research Question"
   ]
  },
  {
   "cell_type": "markdown",
   "id": "170856b5-4a01-4768-9ede-e0660736c2c9",
   "metadata": {},
   "source": [
    "## Data Sources"
   ]
  },
  {
   "cell_type": "markdown",
   "id": "5611f106-e0a9-4b88-a47a-0a2729e86738",
   "metadata": {},
   "source": [
    "[Environmental Justice Index](https://onemap.cdc.gov/portal/apps/sites/#/eji-explorer)(EJI)"
   ]
  },
  {
   "cell_type": "markdown",
   "id": "fef5ed79-c250-48a8-8ce1-7436461367bb",
   "metadata": {},
   "source": [
    "[CalEnviroScreen](https://oehha.ca.gov/calenviroscreen/maps-data)"
   ]
  },
  {
   "cell_type": "markdown",
   "id": "2a435376-394c-48d2-95b4-a0c93d04a066",
   "metadata": {},
   "source": [
    "[Warehouse data](https://radicalresearch.shinyapps.io/WarehouseCITY/)"
   ]
  },
  {
   "cell_type": "markdown",
   "id": "eb322a35-65e8-46c7-8dc5-9dab42e62638",
   "metadata": {},
   "source": [
    "[California State Geoportal](https://gis.data.ca.gov/)"
   ]
  },
  {
   "cell_type": "markdown",
   "id": "b6bab5c3-155d-498a-9b79-7057459e5f2b",
   "metadata": {},
   "source": [
    "## Data exploration"
   ]
  },
  {
   "cell_type": "markdown",
   "id": "31bb05eb-43c0-424d-9a6e-4b3c40a80e80",
   "metadata": {},
   "source": [
    "## Analysis"
   ]
  },
  {
   "cell_type": "markdown",
   "id": "63370a83-b19b-4703-b0d7-0c8ce7bc7d2a",
   "metadata": {},
   "source": [
    "### Charts"
   ]
  },
  {
   "cell_type": "markdown",
   "id": "4efbe51f-2ea4-4a56-bdca-36d09babb611",
   "metadata": {},
   "source": [
    "### Maps"
   ]
  },
  {
   "cell_type": "markdown",
   "id": "3850bbb5-7eb1-44e7-9cfb-92e02aeac341",
   "metadata": {},
   "source": [
    "## Team"
   ]
  },
  {
   "cell_type": "markdown",
   "id": "241b2c69-ae2c-4cde-882c-d89bf86cb499",
   "metadata": {},
   "source": [
    "**Alejandra Rios**: Repo manager, data collection and cleaning, assist with quantitative analysis, literature review\n",
    "\n",
    "**Georgie Suico**: Qualitative analysis and literature review, assist with notebook design, quantitative analysis, and data collection\n",
    "\n",
    "**Jennifer Chu**: Notebook and presentation design, assist with quantitative analysis, literature review, and data collection\n",
    "\n",
    "**Matthews Cribioli**: Quantitative analysis, assist with qualitative analysis, literature review, and data collection"
   ]
  }
 ],
 "metadata": {
  "kernelspec": {
   "display_name": "Python 3 (ipykernel)",
   "language": "python",
   "name": "python3"
  },
  "language_info": {
   "codemirror_mode": {
    "name": "ipython",
    "version": 3
   },
   "file_extension": ".py",
   "mimetype": "text/x-python",
   "name": "python",
   "nbconvert_exporter": "python",
   "pygments_lexer": "ipython3",
   "version": "3.10.8"
  }
 },
 "nbformat": 4,
 "nbformat_minor": 5
}
