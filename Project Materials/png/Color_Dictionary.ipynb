{
 "cells": [
  {
   "cell_type": "code",
   "execution_count": 1,
   "id": "7a4e1bcf-b0e4-415a-b2e5-520e0997d957",
   "metadata": {},
   "outputs": [],
   "source": [
    "# Gradient color \n",
    "color_gradR = {'r1':'#03071e',\n",
    "              'r2': '#370617',\n",
    "              'r3': '#6a040f',\n",
    "              'r4': '#9d0208',                  \n",
    "              'r5': '#d00000',\n",
    "              'r6': '#dc2f02',\n",
    "              'r7': '#e85d04',\n",
    "              'r8': '#fb8500',   \n",
    "              'r9': '#ffb703',  \n",
    "              'r10':'#f3ce28'}  "
   ]
  },
  {
   "cell_type": "markdown",
   "id": "cbeb9e2c-905d-4a87-b5bb-82453e256d3b",
   "metadata": {},
   "source": [
    "<img src=\"color_dict/color_gradR.png\" alt=\"color gradient\" width=\"30%\">"
   ]
  },
  {
   "cell_type": "code",
   "execution_count": 2,
   "id": "ed7be430-35f9-47e4-94d6-36e84825202a",
   "metadata": {},
   "outputs": [],
   "source": [
    "color_gradB = {'b1': '#01151F',  \n",
    "               'b2': '#023047',   \n",
    "               'b3': '#0E5778',\n",
    "               'b4': '#087798',                 \n",
    "               'b5': '#219EBC',  \n",
    "               'b6': '#58B9D1',\n",
    "               'b7': '#7ED1E6',   \n",
    "               'b8': '#ADE8F4',   \n",
    "               'b9': '#CAF0F8'} "
   ]
  },
  {
   "cell_type": "markdown",
   "id": "066ac8b6-d8e4-4090-8eae-368800054785",
   "metadata": {},
   "source": [
    "<img src=\"color_dict/color_gradB.png\" alt=\"color gradient\" width=\"30%\">"
   ]
  },
  {
   "cell_type": "code",
   "execution_count": 3,
   "id": "cdfc870b-bf37-4af3-bd1d-c2b3c73f33d5",
   "metadata": {},
   "outputs": [],
   "source": [
    "# Color Palette 1 \n",
    "color_palet1 = {'b7': '#7ED1E6',\n",
    "                'b5': '#219EBC',\n",
    "                'b1': '#023047',\n",
    "                'r10': '#F3CE28',                  \n",
    "                'r8': '#FB8500'}"
   ]
  },
  {
   "cell_type": "markdown",
   "id": "99ff7378-4ea1-4407-b105-52fb17ee5301",
   "metadata": {},
   "source": [
    "<img src=\"color_dict/color_palet1.png\" alt=\"color gradient\" width=\"30%\">"
   ]
  },
  {
   "cell_type": "code",
   "execution_count": 4,
   "id": "470a8e62-5677-4347-a808-92271738ade7",
   "metadata": {},
   "outputs": [],
   "source": [
    "# Color Palette 2 \n",
    "color_palet2 = {'b7': '#01151F',\n",
    "                'b5': '#023047',\n",
    "                'b2': '#219EBC',\n",
    "                'b1': '#7ED1E6',\n",
    "                'r10':'#CAF0F8',\n",
    "                'r9': '#F3CE28', \n",
    "                'r8': '#FB8500',\n",
    "                'r7': '#DC2F02',\n",
    "                'r7': '#DC2F02',\n",
    "                'r7': '#370617',\n",
    "               } "
   ]
  },
  {
   "cell_type": "markdown",
   "id": "eb2752b4-1bd6-4d29-bea8-8f9643c38d4a",
   "metadata": {},
   "source": [
    "<img src=\"color_dict/color_palet2.png\" alt=\"color gradient\" width=\"30%\">"
   ]
  }
 ],
 "metadata": {
  "kernelspec": {
   "display_name": "Python 3 (ipykernel)",
   "language": "python",
   "name": "python3"
  },
  "language_info": {
   "codemirror_mode": {
    "name": "ipython",
    "version": 3
   },
   "file_extension": ".py",
   "mimetype": "text/x-python",
   "name": "python",
   "nbconvert_exporter": "python",
   "pygments_lexer": "ipython3",
   "version": "3.10.8"
  }
 },
 "nbformat": 4,
 "nbformat_minor": 5
}
