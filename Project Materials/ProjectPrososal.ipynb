{
 "cells": [
  {
   "cell_type": "markdown",
   "id": "4ad853ab-ce80-45cc-988b-036922ce3b02",
   "metadata": {},
   "source": [
    "# Environmental & Health Impacts of Warehousing in Ontario, CA"
   ]
  },
  {
   "cell_type": "markdown",
   "id": "a7ac1d17-3011-4e49-9102-d37ddbcd5d90",
   "metadata": {},
   "source": [
    "Group members: Alejandra Rios, Georgie Suico, Matthews Cribioli, Yu-Chen Chu"
   ]
  },
  {
   "cell_type": "markdown",
   "id": "e4f8b982-5bf2-4335-9015-5d868c010e27",
   "metadata": {},
   "source": [
    "## Research Question"
   ]
  },
  {
   "cell_type": "markdown",
   "id": "dacc3e99-e7d2-4aa5-9d61-b52df3a78980",
   "metadata": {},
   "source": [
    "Our project seeks to explore the relationship between warehouses and environmental, social, and health outcomes in the communities surrounding them in Ontario, California. "
   ]
  },
  {
   "cell_type": "markdown",
   "id": "e72fceb8-2734-41a3-be3e-edfc47f8bdf7",
   "metadata": {},
   "source": [
    "## Importance"
   ]
  },
  {
   "cell_type": "markdown",
   "id": "c8f0bea1-b547-4960-8d56-87a1943a5ce0",
   "metadata": {},
   "source": [
    "Considering the simultaneously skyrocketing consumer demand that will likely increase the potential burden of warehousing operations on Southern California’s key trade corridors, goods movement is a pressing issue at the city, regional, state, and national levels. \n",
    "\n",
    "City and regional logistics and other warehousing needs contribute to Southern California’s severe traffic congestion and air pollution, yet serve a critical role in providing essential goods and services, whether life-saving vaccines or emergency supplies after natural disasters. \n",
    "\n",
    "Warehousing operations add additional burdens to already overburdened communities by increasing exposure to air pollution and increasing the health risks to communities close to the warehouse facilities. "
   ]
  },
  {
   "cell_type": "markdown",
   "id": "68c1d38b-2556-4631-9142-fa7ad7e2b1c2",
   "metadata": {},
   "source": [
    "## Spatial Scope"
   ]
  },
  {
   "cell_type": "markdown",
   "id": "88731e54-3350-40da-87cd-6119c97f0523",
   "metadata": {},
   "source": [
    "The scope for this project encompasses Ontario, CA, the city with the most existing and planned warehouses in Califiornia.\n"
   ]
  },
  {
   "cell_type": "markdown",
   "id": "e298db9e-fa4c-4c8b-a7e0-9e838f01e21c",
   "metadata": {},
   "source": [
    "## Data Sources"
   ]
  },
  {
   "cell_type": "markdown",
   "id": "e00fa226-08a7-454a-b791-8875995f6a8a",
   "metadata": {},
   "source": [
    "[Environmental Justice Index](https://onemap.cdc.gov/portal/apps/sites/#/eji-explorer)(EJI)\n",
    "\n",
    "The EJI is a newer index administered by the CDC that provides information on what communities experience severe cumulative impacts from environmental burden. This dataset provides environmental, social, and health data that we use to identify the causes of vulnerability for the communities in Ontario. Selected indicators from this dataset can be overlaid with warehouse data to identify a link between the growth of warehouses in the area and environmental justice burdens.\n",
    "\n",
    "[Warehouse CITY data](https://radicalresearch.shinyapps.io/WarehouseCITY/)\n",
    "\n",
    "The Warehouse CITY (communitY Cumulative Impact Tool) data data currently contains information on assessor parcel number, year built, and type. This data is collected with the purpose of providing a tool to help communities in Southern California understand and quantify the cumulative impacts of warehouses in the region. \n",
    "\n",
    "[California State Geoportal](https://gis.data.ca.gov/)\n",
    "\n",
    "This dataset provides access to various geospatial data and services related to the state of California, including data on topography, demographics, land use, natural resources, and other related topics. We downloaded geojson files of Ontario city’s schools, parks, the airport, or any public places to see their locations and how warehouses may possibly impact people using these facilities."
   ]
  },
  {
   "cell_type": "markdown",
   "id": "aa39b815-f10e-4926-85e2-3956d6fd2bc0",
   "metadata": {},
   "source": [
    "## Scope of Visualizations"
   ]
  },
  {
   "cell_type": "markdown",
   "id": "44bb6416-8661-4026-873c-a9c1ff326854",
   "metadata": {},
   "source": [
    "This analysis intends to discover any links between the overburden of warehouses in communities in Ontario and negative outcomes through geospatial analysis. Additionally, the project will observe land uses and the historical outgrowth of warehouses in the city. Our final deliverable will include a regression analysis of the relationship between warehouse siting and social, health, and environmental factors. "
   ]
  },
  {
   "cell_type": "markdown",
   "id": "55c32b28-d295-444d-bdb8-ca6338ed3b82",
   "metadata": {},
   "source": [
    "## Expected Insights"
   ]
  },
  {
   "cell_type": "markdown",
   "id": "be152b1b-3ed7-4f09-9162-aece5d4ce2b6",
   "metadata": {},
   "source": [
    "We expect to figure out which communities have the most social, health, and environmental burden. We also hope to identify community response and resistance to the warehouses. "
   ]
  },
  {
   "cell_type": "markdown",
   "id": "022cebaf-4337-40c2-91b8-a1e91373965c",
   "metadata": {},
   "source": [
    "## Team"
   ]
  },
  {
   "cell_type": "markdown",
   "id": "08d9c3da-3b2a-41f0-ab41-2d6f76c9ce35",
   "metadata": {},
   "source": [
    "**Alejandra Rios**: Repo manager, data collection and cleaning, assist with quantitative analysis, literature review\n",
    "\n",
    "**Georgie Suico**: Qualitative analysis and literature review, assist with notebook design, quantitative analysis, and data collection\n",
    "\n",
    "**Jennifer Chu**: Notebook and presentation design, assist with quantitative analysis, literature review, and data collection\n",
    "\n",
    "**Matthews Cribioli**: Quantitative analysis, assist with qualitative analysis, literature review, and data collection"
   ]
  }
 ],
 "metadata": {
  "kernelspec": {
   "display_name": "Python 3 (ipykernel)",
   "language": "python",
   "name": "python3"
  },
  "language_info": {
   "codemirror_mode": {
    "name": "ipython",
    "version": 3
   },
   "file_extension": ".py",
   "mimetype": "text/x-python",
   "name": "python",
   "nbconvert_exporter": "python",
   "pygments_lexer": "ipython3",
   "version": "3.10.8"
  }
 },
 "nbformat": 4,
 "nbformat_minor": 5
}
