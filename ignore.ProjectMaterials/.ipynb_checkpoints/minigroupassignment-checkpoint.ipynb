{
 "cells": [
  {
   "cell_type": "markdown",
   "id": "41fe0d4c-a772-4b2a-9898-6b919da5aa6b",
   "metadata": {},
   "source": [
    "# Mini Group Assignment"
   ]
  },
  {
   "cell_type": "markdown",
   "id": "31121410-c336-4980-97c8-cc86727b03fb",
   "metadata": {},
   "source": [
    "---"
   ]
  },
  {
   "cell_type": "markdown",
   "id": "a90bd759-1ec1-4d21-b5a0-af95dfe2c25a",
   "metadata": {},
   "source": [
    "## Environmental and Health Impacts of Warehouses in Ontario, California"
   ]
  },
  {
   "cell_type": "markdown",
   "id": "9461170f-75df-443d-8817-87c1b6ac2025",
   "metadata": {},
   "source": [
    "add link to proposal "
   ]
  },
  {
   "cell_type": "markdown",
   "id": "d8e86643-3f35-4366-8d1d-6e170925964c",
   "metadata": {},
   "source": [
    "### Roles"
   ]
  },
  {
   "cell_type": "markdown",
   "id": "2415bfc1-6461-4fb3-aa82-08e8be2b0c0a",
   "metadata": {},
   "source": [
    "**Alejandra Rios**: Repo manager, data collection and cleaning lead, assist with quantitative analysis, literature review, and data collecting   \n",
    "**Georgie Suico**: Qualitative analysis and literature review lead, assist with notebook design, quantitative analysis, and data collection  \n",
    "**Jennifer Chu**: Design lead, assist with quantitative analysis, literature review, and data collection  \n",
    "**Matthews Cribioli**: Quantitative analysis lead, assist with qualitative analysis, literature review, and data collection"
   ]
  },
  {
   "cell_type": "markdown",
   "id": "1d95d9e9-c9fc-4fd4-b359-9682f691b258",
   "metadata": {
    "tags": []
   },
   "source": [
    "### Status update"
   ]
  },
  {
   "cell_type": "markdown",
   "id": "3a5f9c27-da11-42fb-87a2-9510e4325bb4",
   "metadata": {},
   "source": [
    "Shifting gears on our project, we’ve decided to focus our research and project on a timewise longitudinal warehouse analysis in Ontario. We are more confident in being able to use point data within one city instead of line data across an entire county. We believe it will be easier to explore and explain patterns related to the effects of freight looking at warehouses instead of freeways. We met with Chris for more guidance, and are currently working on re-working our proposal. This Sunday we will be exploring some of the new data to narrow down our scope. We will be conducting a historical and literature review, as well as incorporating a map of community response to warehouses. We are also exploring mapping trends in warehouses and its related health and economic effects, producing a limited forecast for the near future. We are also considering creating regression models in the future to see if there are statistically significant effects which arise in response to warehouse expansion."
   ]
  },
  {
   "cell_type": "markdown",
   "id": "4a369a25-fdb4-4082-990b-456cdd01e5df",
   "metadata": {
    "tags": []
   },
   "source": [
    "### Data update"
   ]
  },
  {
   "cell_type": "markdown",
   "id": "dc7acd8d-4089-4be2-9215-54b36899fbe4",
   "metadata": {},
   "source": [
    "[CalEnviroScreen](https://oehha.ca.gov/calenviroscreen/maps-data): This dataset provides pollution and community characteric data that can be used to determine the environmental impacts on overburdened communities. For example, this dataset includes asthma and cardiovascular disease rates per census tracts. We downloaded and cleaned this data set and it can be found on our Github repo. \n",
    "\n",
    "[EJI](https://onemap.cdc.gov/portal/apps/sites/#/eji-explorer): The EJI is a newer index administered by the CDC that provides information on what communities experience severe cumulative impacts from environmental burden. This dataset provides environmental, social, and health data that can provide information on the causes of vulnerability for the communities in Ontario. Selected indicators from this dataset can be overlaid with warehouse data to identify a link between the growth of warehouses in the area and environmental justice burdens.  \n",
    "\n",
    "[Warehouse data](https://radicalresearch.shinyapps.io/WarehouseCITY/): Warehouse data currently contains information on assessor parcel number, year built, and type. Light analysis on category, and year will be done for Sunday's personal project. As well as merging the data with county assessor parcels. A version with parcel shapes and parcel centroids will be created.\n",
    "\n",
    "Community organization efforts:"
   ]
  },
  {
   "cell_type": "markdown",
   "id": "5f672250-ab58-4f70-a516-fcd5ce4315a1",
   "metadata": {
    "tags": []
   },
   "source": [
    "### Concerns"
   ]
  },
  {
   "cell_type": "markdown",
   "id": "4cd024c0-392b-4361-9bea-1bced73b3a0f",
   "metadata": {},
   "source": [
    "Concerns about availability of demographic and health outcome conditions of years prior. Still looking to clarify timeline scope based on the availability of data."
   ]
  }
 ],
 "metadata": {
  "kernelspec": {
   "display_name": "Python 3 (ipykernel)",
   "language": "python",
   "name": "python3"
  },
  "language_info": {
   "codemirror_mode": {
    "name": "ipython",
    "version": 3
   },
   "file_extension": ".py",
   "mimetype": "text/x-python",
   "name": "python",
   "nbconvert_exporter": "python",
   "pygments_lexer": "ipython3",
   "version": "3.10.8"
  }
 },
 "nbformat": 4,
 "nbformat_minor": 5
}
