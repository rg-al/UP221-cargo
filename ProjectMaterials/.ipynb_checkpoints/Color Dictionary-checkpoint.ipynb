{
 "cells": [
  {
   "cell_type": "code",
   "execution_count": null,
   "id": "4861949d-f86e-4eac-b64f-a94ff9d09edb",
   "metadata": {},
   "outputs": [],
   "source": [
    "# Gradient color \n",
    "color_gradR = {'r1':'#03071e',\n",
    "              'r2': '#370617',\n",
    "              'r3': '#6a040f',\n",
    "              'r4': '#9d0208',                  \n",
    "              'r5': '#d00000',\n",
    "              'r6': '#dc2f02',\n",
    "              'r7': '#e85d04',\n",
    "              'r8': '#FB8500',   # Replace #f48c06 with #FB8500\n",
    "              'r9': '#FD9E02',   # Replace #faa307 with #FD9E02\n",
    "              'r10':'#ffb703'}   # Replace #ffba08 with #ffb703    \n"
   ]
  },
  {
   "cell_type": "markdown",
   "id": "cbeb9e2c-905d-4a87-b5bb-82453e256d3b",
   "metadata": {},
   "source": [
    "![alt text](color_dict/color_gradR.jpg)"
   ]
  },
  {
   "cell_type": "code",
   "execution_count": null,
   "id": "4bac835a-7a1a-4793-a9b5-52e73aeb5242",
   "metadata": {},
   "outputs": [],
   "source": [
    "# Gradient color \n",
    "color_gradB = {'b1': '#023047',   # Replace #03045E with #023047\n",
    "               'b2': '#126782',   # Replace #023E8A with #126782\n",
    "               'b3': '#0077B6',\n",
    "               'b4': '#0096C7',                 \n",
    "               'b5': '#219EBC',   # Replace #00B4D8 with #219EBC\n",
    "               'b6': '#48CAE4',\n",
    "               'b7': '#8ECAE6',   # Replace #90E0EF with #8ECAE6\n",
    "               'b8': '#ADE8F4',   \n",
    "               'b9': '#CAF0F8'}   "
   ]
  },
  {
   "cell_type": "markdown",
   "id": "b348f15c-b684-4887-9179-4ef354063622",
   "metadata": {},
   "source": [
    "![alt text](color_dict/color_gradB.jpg)"
   ]
  },
  {
   "cell_type": "code",
   "execution_count": null,
   "id": "cdfc870b-bf37-4af3-bd1d-c2b3c73f33d5",
   "metadata": {},
   "outputs": [],
   "source": [
    "# Color Palette 1 \n",
    "color_palet1 = {'b7': '#8ECAE6',\n",
    "                'b5': '#219EBC',\n",
    "                'b1': '#023047',\n",
    "                'r10': '#FFB703',                  \n",
    "                'r8': '#FB8500'}"
   ]
  },
  {
   "cell_type": "markdown",
   "id": "99ff7378-4ea1-4407-b105-52fb17ee5301",
   "metadata": {},
   "source": [
    "![alt text](color_dict/color_palette1.jpg)"
   ]
  },
  {
   "cell_type": "code",
   "execution_count": null,
   "id": "470a8e62-5677-4347-a808-92271738ade7",
   "metadata": {},
   "outputs": [],
   "source": [
    "# Color Palette 2 \n",
    "color_palet2 = {'b7': '#8ECAE6',\n",
    "                'b5': '#219EBC',\n",
    "                'b2': '#126782',\n",
    "                'b1': '#023047',\n",
    "                'r10': '#FFB703',\n",
    "                'r9': '#FD9E02',\n",
    "                'r8': '#FB8500'}"
   ]
  },
  {
   "cell_type": "markdown",
   "id": "eb2752b4-1bd6-4d29-bea8-8f9643c38d4a",
   "metadata": {},
   "source": [
    "![alt text](color_dict/color_palette2.jpg)"
   ]
  }
 ],
 "metadata": {
  "kernelspec": {
   "display_name": "Python 3 (ipykernel)",
   "language": "python",
   "name": "python3"
  },
  "language_info": {
   "codemirror_mode": {
    "name": "ipython",
    "version": 3
   },
   "file_extension": ".py",
   "mimetype": "text/x-python",
   "name": "python",
   "nbconvert_exporter": "python",
   "pygments_lexer": "ipython3",
   "version": "3.10.8"
  }
 },
 "nbformat": 4,
 "nbformat_minor": 5
}
